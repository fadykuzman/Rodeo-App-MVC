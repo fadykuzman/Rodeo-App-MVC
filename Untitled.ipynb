{
 "cells": [
  {
   "cell_type": "code",
   "execution_count": 2,
   "metadata": {},
   "outputs": [
    {
     "name": "stdout",
     "output_type": "stream",
     "text": [
      "pot1\n",
      "-0.5076\n",
      "pot2\n",
      "-0.5023\n",
      "pot3\n",
      "-0.5027\n",
      "pot4\n",
      "-0.5043\n",
      "pot5\n",
      "-0.5071\n",
      "pot6\n",
      "-0.5082\n"
     ]
    }
   ],
   "source": [
    "corrected_values = {\n",
    "            'pot1': -0.5076,\n",
    "            'pot2': -0.5023,\n",
    "            'pot3': -0.5027,\n",
    "            'pot4': -0.5043,\n",
    "            'pot5': -0.5071,\n",
    "            'pot6': -0.5082\n",
    "        }\n",
    "\n",
    "for key, value in corrected_values.items():\n",
    "    print(key)\n",
    "    print(value)"
   ]
  },
  {
   "cell_type": "code",
   "execution_count": 3,
   "metadata": {},
   "outputs": [],
   "source": [
    "from potentiostat import potentiostat as ps"
   ]
  },
  {
   "cell_type": "code",
   "execution_count": 7,
   "metadata": {},
   "outputs": [],
   "source": [
    "import rodeo_app.model as m"
   ]
  },
  {
   "cell_type": "code",
   "execution_count": 10,
   "metadata": {},
   "outputs": [],
   "source": [
    "pm = m.PotentiostatsModel().read_all()"
   ]
  },
  {
   "cell_type": "code",
   "execution_count": 17,
   "metadata": {},
   "outputs": [
    {
     "name": "stdout",
     "output_type": "stream",
     "text": [
      "pot3\n",
      "pot5\n",
      "pot4\n",
      "pot6\n",
      "pot1\n",
      "pot2\n"
     ]
    }
   ],
   "source": [
    "for p in pm:\n",
    "    print(p)"
   ]
  },
  {
   "cell_type": "code",
   "execution_count": null,
   "metadata": {},
   "outputs": [],
   "source": []
  }
 ],
 "metadata": {
  "kernelspec": {
   "display_name": "Python 3",
   "language": "python",
   "name": "python3"
  },
  "language_info": {
   "codemirror_mode": {
    "name": "ipython",
    "version": 3
   },
   "file_extension": ".py",
   "mimetype": "text/x-python",
   "name": "python",
   "nbconvert_exporter": "python",
   "pygments_lexer": "ipython3",
   "version": "3.7.0"
  }
 },
 "nbformat": 4,
 "nbformat_minor": 2
}
